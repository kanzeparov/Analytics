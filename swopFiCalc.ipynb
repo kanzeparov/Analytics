{
  "nbformat": 4,
  "nbformat_minor": 0,
  "metadata": {
    "colab": {
      "name": "swopFiCalc.ipynb",
      "provenance": [],
      "collapsed_sections": [],
      "toc_visible": true,
      "include_colab_link": true
    },
    "kernelspec": {
      "name": "python3",
      "display_name": "Python 3"
    }
  },
  "cells": [
    {
      "cell_type": "markdown",
      "metadata": {
        "id": "view-in-github",
        "colab_type": "text"
      },
      "source": [
        "<a href=\"https://colab.research.google.com/github/kanzeparov/Analytics/blob/master/swopFiCalc.ipynb\" target=\"_parent\"><img src=\"https://colab.research.google.com/assets/colab-badge.svg\" alt=\"Open In Colab\"/></a>"
      ]
    },
    {
      "cell_type": "markdown",
      "metadata": {
        "id": "PK4pc-IQfHlZ"
      },
      "source": [
        "### HOW TO\n",
        "\n",
        "1) **←** слева есть оглавление для удобной навигации\n",
        "\n",
        "\n",
        "![](https://drive.google.com/uc?export=view&id=1IqXsxIjITqrkasxSjOIDAbg_aVtCG9Am)\n",
        "\n",
        "2) В каждом блоке есть входные параметры, которые можно и нужно менять\n",
        "![](https://drive.google.com/uc?export=view&id=1ojUvqrPFLUjL69P-qExQazZiWaHiiJ6D)\n",
        "\n",
        "3) Этот калькуятор содержит технические блоки с кодом, у каждого блока они свои и скрыты для удобства. Если раскроете блок с кодом и захотите его убрать, нажмите на появившуюся белую область справа\n",
        "\n",
        " Выглядят блоки с кодом вот так\n",
        "![](https://drive.google.com/uc?export=view&id=1xN4Atojaz_Iu2DxaS-ZN2j7loSLB9v8D)\n",
        "**↓** **↓** **↓**Для дальшнейшей работы как раз необходимо выполнить ячейку снизу (выделить и нажать shift+enter)**↓** **↓** **↓**\n",
        "\n"
      ]
    },
    {
      "cell_type": "code",
      "metadata": {
        "id": "yRRU40TBTGXS",
        "cellView": "form"
      },
      "source": [
        "#@title\n",
        "\n",
        "from IPython.display import HTML, display\n",
        "\n",
        "import numpy as np\n",
        "import plotly.graph_objects as go\n",
        "import math\n",
        "#высчитваем инвариант\n",
        "def invV1(x_i,y_i,alpha):\n",
        "  skeweness = 1/2*(y_i/x_i+x_i/y_i)\n",
        "  return (x_i+y_i)*(skeweness)**(-alpha) + (x_i*y_i)*(skeweness)**(alpha)\n",
        "\n",
        "def invV2_cont(x_i,y_i,alpha,betta):\n",
        "  skeweness = 1/2*(y_i/x_i+x_i/y_i)\n",
        "  return (x_i+y_i)*(skeweness)**(-alpha) + 2*(x_i*y_i)**(1/2)*(skeweness - betta)**((alpha))\n",
        "\n",
        "\n",
        "def invV2(x_i,y_i,alpha,betta):\n",
        "  scale8 = 100000000\n",
        "  scale12 = 1000000000000\n",
        "  skeweness = math.floor(1/2*(int(y_i*scale12/x_i)+int(x_i*scale12/y_i))/10000)\n",
        "  first_sum = math.floor((x_i+y_i)*scale8/math.ceil((skeweness/scale8)**(alpha)*scale8))\n",
        "  second_sum_first_part = math.floor(round(x_i*y_i/scale8)**0.5*(scale8/10000))\n",
        "  second_sum_second_part = math.floor(((skeweness-betta*scale8)/scale8)**alpha*scale8)\n",
        "  second_sum = 2*math.floor((second_sum_first_part*second_sum_second_part)/scale8)\n",
        "  return first_sum + second_sum\n",
        "\n",
        "\n",
        "# зная о монотонности функции,воспользуемся методом половинного деления\n",
        "def find_how_many_you_getV2(x_balance,y_balance,x_balance_new,alpha,betta):\n",
        "  actual_invarian = invV2(x_balance,y_balance,alpha,betta)\n",
        "  y_left = 1\n",
        "  y_right = 100*y_balance \n",
        "  for _ in range(50):\n",
        "    mean = (y_left + y_right)/2\n",
        "    invariant_delta_in_left = actual_invarian - invV2(x_balance_new,y_left,alpha,betta)\n",
        "    invariant_delta_in_right = actual_invarian - invV2(x_balance_new,y_right,alpha,betta)\n",
        "    invariant_delta_in_mean = actual_invarian - invV2(x_balance_new,mean,alpha,betta)\n",
        "    if invariant_delta_in_mean*invariant_delta_in_left < 0:\n",
        "      y_left = y_left\n",
        "      y_right = mean\n",
        "    elif invariant_delta_in_mean*invariant_delta_in_right <0:\n",
        "      y_left = mean\n",
        "      y_right = y_right\n",
        "    else:\n",
        "      return y_balance -  mean\n",
        "  return y_balance -  mean\n",
        "  \n",
        "def find_how_many_you_getV2_cont(x_balance,y_balance,x_balance_new,alpha,betta):\n",
        "  actual_invarian = invV2_cont(x_balance,y_balance,alpha,betta)\n",
        "  y_left = 1\n",
        "  y_right = 100*y_balance \n",
        "  for _ in range(50):\n",
        "    mean = (y_left + y_right)/2\n",
        "    invariant_delta_in_left = actual_invarian - invV2_cont(x_balance_new,y_left,alpha,betta)\n",
        "    invariant_delta_in_right = actual_invarian - invV2_cont(x_balance_new,y_right,alpha,betta)\n",
        "    invariant_delta_in_mean = actual_invarian - invV2_cont(x_balance_new,mean,alpha,betta)\n",
        "    if invariant_delta_in_mean*invariant_delta_in_left < 0:\n",
        "      y_left = y_left\n",
        "      y_right = mean\n",
        "    elif invariant_delta_in_mean*invariant_delta_in_right <0:\n",
        "      y_left = mean\n",
        "      y_right = y_right\n",
        "    else:\n",
        "      return y_balance -  mean\n",
        "  return y_balance -  mean\n",
        "\n",
        "def find_how_many_you_getV1(x_i,alpha):\n",
        "  actual_invarian = invV1(x_balance,y_balance,alpha)\n",
        "  y_left = 0.000000001*y_balance\n",
        "  y_right = 10*y_balance \n",
        "  for _ in range(1000):\n",
        "    mean = (y_left + y_right)/2\n",
        "    invariant_delta_in_left = actual_invarian - invV1(x_i,y_left,alpha)\n",
        "    invariant_delta_in_right = actual_invarian - invV1(x_i,y_right,alpha)\n",
        "    invariant_delta_in_mean = actual_invarian - invV1(x_i,mean,alpha)\n",
        "    if invariant_delta_in_mean*invariant_delta_in_left < 0:\n",
        "      y_left = y_left\n",
        "      y_right = mean\n",
        "    elif invariant_delta_in_mean*invariant_delta_in_right <0:\n",
        "      y_left = mean\n",
        "      y_right = y_right\n",
        "    else:\n",
        "      return y_balance - y_right  \n",
        "  return y_balance - y_right  \n",
        "\n",
        "def find_how_many_you_get_uniswap(x_i):\n",
        "  return y_balance - x_balance*y_balance/(x_i)\n",
        "\n",
        "def display_table(data):\n",
        "    html = \"<table>\"\n",
        "    for row in data:\n",
        "        html += \"<tr>\"\n",
        "        for field in row:\n",
        "            html += \"<td><h4>%s</h4><td>\"%(field)\n",
        "        html += \"</tr>\"\n",
        "    html += \"</table>\"\n",
        "    display(HTML(html))"
      ],
      "execution_count": null,
      "outputs": []
    },
    {
      "cell_type": "code",
      "metadata": {
        "id": "HvvNsOJ8KwqB"
      },
      "source": [
        "invV2()"
      ],
      "execution_count": null,
      "outputs": []
    },
    {
      "cell_type": "markdown",
      "metadata": {
        "id": "rwTjUvcbXUqE"
      },
      "source": [
        "\n",
        "---\n",
        "\n",
        "\n",
        "### Лучшие параметры для flat кривых\n",
        "\n",
        "Для нахождения параметров, соответствующих наиболее \"плоскому\" поведению bonding curves, можно выполнить участок кода снизу.\n",
        "\n",
        "Работает **долго**, т.к. подбор осуществляется перебором"
      ]
    },
    {
      "cell_type": "code",
      "metadata": {
        "id": "tWS7q4XeYSYC"
      },
      "source": [
        "x_balance = 500000000000 #500k with 6 digits\n",
        "y_balance = x_balance"
      ],
      "execution_count": null,
      "outputs": []
    },
    {
      "cell_type": "code",
      "metadata": {
        "id": "jm_WXt0OYVUp",
        "colab": {
          "base_uri": "https://localhost:8080/",
          "height": 232
        },
        "outputId": "66c0fd61-fb69-444e-e4ec-158b59b05d95"
      },
      "source": [
        "#@title\n",
        "def find_how_many_you_getV1_for_best_coef(x_i,alpha):\n",
        "  actual_invarian = invV1(x_balance,y_balance,alpha)\n",
        "  y_left = 0.000000001*y_balance\n",
        "  y_right = 10*y_balance \n",
        "  for _ in range(100):\n",
        "    mean = (y_left + y_right)/2\n",
        "    invariant_delta_in_left = actual_invarian - invV1(x_i,y_left,alpha)\n",
        "    invariant_delta_in_right = actual_invarian - invV1(x_i,y_right,alpha)\n",
        "    invariant_delta_in_mean = actual_invarian - invV1(x_i,mean,alpha)\n",
        "    if invariant_delta_in_mean*invariant_delta_in_left < 0:\n",
        "      y_left = y_left\n",
        "      y_right = mean\n",
        "    elif invariant_delta_in_mean*invariant_delta_in_right <0:\n",
        "      y_left = mean\n",
        "      y_right = y_right\n",
        "    else:\n",
        "      return y_balance - mean  \n",
        "  return y_balance - mean  \n",
        "\n",
        "\n",
        "\n",
        "def find_how_many_you_getV2_for_best_coef(x_balance,y_balance,x_balance_new,alpha,betta):\n",
        "  actual_invarian = invV2(x_balance,y_balance,alpha,betta)\n",
        "  y_left = 1\n",
        "  y_right = 100*y_balance \n",
        "  for _ in range(500):\n",
        "    \n",
        "    mean = (y_left + y_right)/2\n",
        "    invariant_delta_in_left = actual_invarian - invV2(x_balance_new,y_left,alpha,betta)\n",
        "    invariant_delta_in_right = actual_invarian - invV2(x_balance_new,y_right,alpha,betta)\n",
        "    invariant_delta_in_mean = actual_invarian - invV2(x_balance_new,mean,alpha,betta)\n",
        "    if invariant_delta_in_mean*invariant_delta_in_left < 0:\n",
        "      y_left = y_left\n",
        "      y_right = mean\n",
        "    elif invariant_delta_in_mean*invariant_delta_in_right <0:\n",
        "      y_left = mean\n",
        "      y_right = y_right\n",
        "    else:\n",
        "      return y_balance - mean  \n",
        "  return y_balance - mean\n",
        "\n",
        "def has_negative(arr):\n",
        "  for i in arr:\n",
        "    if i<0:\n",
        "      return True\n",
        "  return False\n",
        "\n",
        "x_flatV1 = []\n",
        "y_flatV1 = []\n",
        "x_flatV2 = []\n",
        "y_flatV2 = []\n",
        "x_line = []\n",
        "y_line = []\n",
        "\n",
        "for x_i in np.linspace(0.3*x_balance,2*x_balance,30):\n",
        "    y_i = x_balance+y_balance-x_i\n",
        "    x_line.append(x_i)\n",
        "    y_line.append(y_i)\n",
        "\n",
        "curve_sum = 1000000000000000000000000\n",
        "\n",
        "alpha_for_V2_best = 0.05\n",
        "for alpha_for_V1 in np.linspace(0.05,1,10):\n",
        "  y_flatV1 = []\n",
        "  for x_i in np.linspace(0.3*x_balance,2*x_balance,30):\n",
        "      y_i = y_balance - find_how_many_you_getV1_for_best_coef(x_i,alpha_for_V1)\n",
        "      y_flatV1.append(y_i)\n",
        "  diff_in_values_V1_line = np.array(y_flatV1) - np.array(y_line)\n",
        "  \n",
        "  if has_negative(diff_in_values_V1_line):\n",
        "    continue\n",
        " \n",
        "  if diff_in_values_V1_line.sum() < curve_sum:\n",
        "    curve_sum = diff_in_values_V1_line.sum()\n",
        "    alpha_for_V1_best = alpha_for_V1\n",
        "\n",
        "alpha_for_V2_best = 0.05\n",
        "for alpha_for_V1 in np.linspace(0.05,1,10):\n",
        "  y_flatV1 = []\n",
        "  for x_i in np.linspace(0.3*x_balance,2*x_balance,30):\n",
        "      y_i = y_balance - find_how_many_you_getV1_for_best_coef(x_i,alpha_for_V1)\n",
        "      y_flatV1.append(y_i)\n",
        "  diff_in_values_V1_line = np.array(y_flatV1) - np.array(y_line)\n",
        "  \n",
        "  if has_negative(diff_in_values_V1_line):\n",
        "    continue\n",
        " \n",
        "  if diff_in_values_V1_line.sum() < curve_sum:\n",
        "    curve_sum = diff_in_values_V1_line.sum()\n",
        "    alpha_for_V1_best = alpha_for_V1\n",
        "\n",
        "curve_sum = 1000000000000000000000000\n",
        "\n",
        "alpha_for_V2_best = 0.05\n",
        "betta_for_V2_best = 0.05\n",
        "alpha_for_V2_start = 0.05\n",
        "betta_for_V2_start = 0.05\n",
        "for alpha_for_V2 in np.linspace(alpha_for_V2_start,1,100):\n",
        "  for betta_for_V2 in np.linspace(betta_for_V2_start,1,100):\n",
        "    y_flatV2 = []\n",
        "    for x_i in np.linspace(0.3*x_balance,2*x_balance,30):\n",
        "        y_i = y_balance - find_how_many_you_getV2_for_best_coef(x_balance,y_balance,x_i,alpha_for_V2,betta_for_V2)\n",
        "        y_flatV2.append(y_i)\n",
        "    diff_in_values_V2_line = np.array(y_flatV2) - np.array(y_line)\n",
        "    #print(alpha_for_V2,betta_for_V2,curve_sum,diff_in_values_V2_line.sum(),has_negative(diff_in_values_V2_line))\n",
        "    if has_negative(diff_in_values_V2_line):\n",
        "        continue\n",
        " \n",
        "    #print()\n",
        "    if diff_in_values_V2_line.sum() < curve_sum:\n",
        "      curve_sum = diff_in_values_V2_line.sum()\n",
        "      alpha_for_V2_best = alpha_for_V2\n",
        "      betta_for_V2_best = betta_for_V2\n",
        "\n",
        "print(\"alpha_V1:\" + str(alpha_for_V1_best))\n",
        "print(\"alpha_V2:\" + str(alpha_for_V2_best) +\", bettta_V2:\" + str(betta_for_V2_best))"
      ],
      "execution_count": null,
      "outputs": [
        {
          "output_type": "error",
          "ename": "NameError",
          "evalue": "ignored",
          "traceback": [
            "\u001b[0;31m---------------------------------------------------------------------------\u001b[0m",
            "\u001b[0;31mNameError\u001b[0m                                 Traceback (most recent call last)",
            "\u001b[0;32m<ipython-input-1-4e6a0699eaa4>\u001b[0m in \u001b[0;36m<module>\u001b[0;34m()\u001b[0m\n\u001b[1;32m     54\u001b[0m \u001b[0my_line\u001b[0m \u001b[0;34m=\u001b[0m \u001b[0;34m[\u001b[0m\u001b[0;34m]\u001b[0m\u001b[0;34m\u001b[0m\u001b[0;34m\u001b[0m\u001b[0m\n\u001b[1;32m     55\u001b[0m \u001b[0;34m\u001b[0m\u001b[0m\n\u001b[0;32m---> 56\u001b[0;31m \u001b[0;32mfor\u001b[0m \u001b[0mx_i\u001b[0m \u001b[0;32min\u001b[0m \u001b[0mnp\u001b[0m\u001b[0;34m.\u001b[0m\u001b[0mlinspace\u001b[0m\u001b[0;34m(\u001b[0m\u001b[0;36m0.3\u001b[0m\u001b[0;34m*\u001b[0m\u001b[0mx_balance\u001b[0m\u001b[0;34m,\u001b[0m\u001b[0;36m2\u001b[0m\u001b[0;34m*\u001b[0m\u001b[0mx_balance\u001b[0m\u001b[0;34m,\u001b[0m\u001b[0;36m30\u001b[0m\u001b[0;34m)\u001b[0m\u001b[0;34m:\u001b[0m\u001b[0;34m\u001b[0m\u001b[0;34m\u001b[0m\u001b[0m\n\u001b[0m\u001b[1;32m     57\u001b[0m     \u001b[0my_i\u001b[0m \u001b[0;34m=\u001b[0m \u001b[0mx_balance\u001b[0m\u001b[0;34m+\u001b[0m\u001b[0my_balance\u001b[0m\u001b[0;34m-\u001b[0m\u001b[0mx_i\u001b[0m\u001b[0;34m\u001b[0m\u001b[0;34m\u001b[0m\u001b[0m\n\u001b[1;32m     58\u001b[0m     \u001b[0mx_line\u001b[0m\u001b[0;34m.\u001b[0m\u001b[0mappend\u001b[0m\u001b[0;34m(\u001b[0m\u001b[0mx_i\u001b[0m\u001b[0;34m)\u001b[0m\u001b[0;34m\u001b[0m\u001b[0;34m\u001b[0m\u001b[0m\n",
            "\u001b[0;31mNameError\u001b[0m: name 'np' is not defined"
          ]
        }
      ]
    },
    {
      "cell_type": "markdown",
      "metadata": {
        "id": "e5wsu4ydQB89"
      },
      "source": [
        ""
      ]
    },
    {
      "cell_type": "markdown",
      "metadata": {
        "id": "ewZh6CRif1z9"
      },
      "source": [
        "\n",
        "---\n",
        "\n",
        "\n",
        "### Графики: cравнение uniswap, flatV1  и flatV2\n",
        "\n",
        "В v1 один параметр (*alpha*), в v2 два \n",
        "\n",
        "\n",
        "$skewness = 0.5(\\frac{x}{y}+\\frac{y}{x}) $\n",
        "\n",
        "**v1**: $inv = (x+y) \\cdot skewness^{-\\alpha}+ (x \\cdot y)\\cdot skewness^{\\alpha} $\n",
        "\n",
        "**v2**: $inv = (x+y) \\cdot skewness^{-\\alpha}+ 2\\cdot(x \\cdot y)^{0.5}\\cdot (skewness-\\beta)^{\\alpha} $\n",
        "\n",
        "*alpha* - влияние скошенности портфеля. Чем больше *alpha*, тем быстрее убывает вклад инварианта суммы x+y и возрастает вклад инварианта y*x\n",
        "\n",
        "*betta* - \"прижатость\" к прямолинейной зависимости\n",
        "\n",
        "\n"
      ]
    },
    {
      "cell_type": "markdown",
      "metadata": {
        "id": "2t0-2VhFhBBo"
      },
      "source": [
        "(X_old + Y_old)*sk + (X_old * Y_old)*sk = 1234\n",
        "(X_new + Y_new)*sk + (X_new * Y_new)*sk = 1234"
      ]
    },
    {
      "cell_type": "code",
      "metadata": {
        "id": "cLVIYzlMggmA"
      },
      "source": [
        "x_balance = 500000000000 #100m with 8 digits\n",
        "y_balance = x_balance\n",
        "alpha_for_V1 = 0.47\n",
        "alpha_for_V2 = 0.50\n",
        "betta_for_V2 = 0.46\n"
      ],
      "execution_count": null,
      "outputs": []
    },
    {
      "cell_type": "code",
      "metadata": {
        "id": "-bp1aCbXgN3q",
        "colab": {
          "base_uri": "https://localhost:8080/",
          "height": 817
        },
        "cellView": "form",
        "outputId": "42370c8b-fd5e-4068-cd6a-f7047e7699fd"
      },
      "source": [
        "#@title\n",
        "x_flatV1 = []\n",
        "y_flatV1 = []\n",
        "x_flatV2 = []\n",
        "y_flatV2 = []\n",
        "x_line = []\n",
        "y_line = []\n",
        "x_uniswap = []\n",
        "y_uniswap = []\n",
        "\n",
        "# for x_i in np.linspace(0.1*x_balance,1.9*x_balance,30):\n",
        "#     y_i = y_balance - find_how_many_you_getV1(x_i,alpha_for_V1)\n",
        "#     x_flatV1.append(x_i)\n",
        "#     y_flatV1.append(y_i)\n",
        "for x_i in np.linspace(0.1*x_balance,1.9*x_balance,30):\n",
        "    y_i = y_balance - find_how_many_you_getV2(x_balance,y_balance,x_i,alpha_for_V2,betta_for_V2)\n",
        "    x_flatV2.append(x_i)\n",
        "    y_flatV2.append(y_i)\n",
        "\n",
        "for x_i in np.linspace(0.1*x_balance,1.9*x_balance,30):\n",
        "    y_i = x_balance+y_balance-x_i\n",
        "    x_line.append(x_i)\n",
        "    y_line.append(y_i)\n",
        "\n",
        "for x_i in np.linspace(0.1*x_balance,1.9*x_balance,30):\n",
        "    y_i = x_balance*y_balance/x_i\n",
        "    x_uniswap.append(x_i)\n",
        "    y_uniswap.append(y_i)\n",
        "\n",
        "# diff_in_values_V1_line = np.array(y_flatV1) - np.array(y_line)\n",
        "diff_in_values_V2_line = np.array(y_flatV2) - np.array(y_line)\n",
        "# for i in diff_in_values_V1_line:\n",
        "#   if i<0:\n",
        "#     print(\"!ERROR IN V1: V1 curve under line!\") \n",
        "#     break\n",
        "\n",
        "for i in diff_in_values_V2_line:\n",
        "  if i<0:\n",
        "    print(\"!ERROR IN V2: V2 curve under line!\")\n",
        "    break\n",
        "\n",
        "fig = go.Figure()\n",
        "\n",
        "# fig.add_trace(go.Scatter(x=x_flatV1, y=y_flatV1,\n",
        "#                     mode ='lines', name = 'flatV1, alpha =' + str(alpha_for_V1)))\n",
        "\n",
        "fig.add_trace(go.Scatter(x=x_flatV2, y=y_flatV2,\n",
        "                    mode ='lines', name = 'flatV2, alpha =' + str(alpha_for_V2) + \", beta =\" +str(betta_for_V2)))\n",
        "fig.add_trace(go.Scatter(x=x_uniswap, y=y_uniswap,\n",
        "                         \n",
        "                    mode = 'lines', name = 'uniswap'))\n",
        "\n",
        "fig.add_trace(go.Scatter(x=x_line, y=y_line,\n",
        "                    mode = 'lines', name = 'line'))\n",
        "\n",
        "fig.update_xaxes(range=[0,2*x_balance])\n",
        "fig.update_yaxes(range=[0,2*x_balance])\n",
        "\n",
        "fig.update_layout(\n",
        "    autosize=False,\n",
        "    width=800,\n",
        "    height=800,\n",
        "    plot_bgcolor='rgb(224,224,224)',\n",
        "    paper_bgcolor = 'rgb(224,224,224)',\n",
        "    title=\"Bonding curves\",\n",
        "    xaxis_title = \"x amount\",\n",
        "    yaxis_title = \"y amount\")\n"
      ],
      "execution_count": null,
      "outputs": [
        {
          "output_type": "display_data",
          "data": {
            "text/html": [
              "<html>\n",
              "<head><meta charset=\"utf-8\" /></head>\n",
              "<body>\n",
              "    <div>\n",
              "            <script src=\"https://cdnjs.cloudflare.com/ajax/libs/mathjax/2.7.5/MathJax.js?config=TeX-AMS-MML_SVG\"></script><script type=\"text/javascript\">if (window.MathJax) {MathJax.Hub.Config({SVG: {font: \"STIX-Web\"}});}</script>\n",
              "                <script type=\"text/javascript\">window.PlotlyConfig = {MathJaxConfig: 'local'};</script>\n",
              "        <script src=\"https://cdn.plot.ly/plotly-latest.min.js\"></script>    \n",
              "            <div id=\"e4318a3d-4b2d-4d26-8d1d-db9ca4970e81\" class=\"plotly-graph-div\" style=\"height:800px; width:800px;\"></div>\n",
              "            <script type=\"text/javascript\">\n",
              "                \n",
              "                    window.PLOTLYENV=window.PLOTLYENV || {};\n",
              "                    \n",
              "                if (document.getElementById(\"e4318a3d-4b2d-4d26-8d1d-db9ca4970e81\")) {\n",
              "                    Plotly.newPlot(\n",
              "                        'e4318a3d-4b2d-4d26-8d1d-db9ca4970e81',\n",
              "                        [{\"mode\": \"lines\", \"name\": \"flatV2, alpha =0.5, beta =0.46\", \"type\": \"scatter\", \"x\": [50000000000.0, 81034482758.6207, 112068965517.24138, 143103448275.86206, 174137931034.48276, 205172413793.10345, 236206896551.72412, 267241379310.34482, 298275862068.9655, 329310344827.5862, 360344827586.2069, 391379310344.8276, 422413793103.44824, 453448275862.069, 484482758620.68964, 515517241379.31036, 546551724137.931, 577586206896.5518, 608620689655.1724, 639655172413.7931, 670689655172.4138, 701724137931.0344, 732758620689.6552, 763793103448.2759, 794827586206.8965, 825862068965.5172, 856896551724.138, 887931034482.7587, 918965517241.3793, 950000000000.0], \"y\": [1012864533849.0588, 959833057122.7312, 915677712108.8804, 876115682862.2383, 839253991145.001, 804104132441.0149, 770103467403.9231, 736915963365.1008, 704333200209.3818, 672217846180.9766, 640468794466.9186, 609000233402.9451, 577732326730.2964, 546592002562.38574, 515521000728.43774, 484486517246.1211, 453488469926.02515, 422559171075.24634, 391754978694.71796, 361144104169.7352, 330796680584.4829, 300781811094.0256, 271172518304.32544, 242056869569.3252, 213551891353.5882, 185817085279.3354, 159064188900.23523, 133559701207.25122, 109616343627.00452, 87570436808.6029]}, {\"mode\": \"lines\", \"name\": \"uniswap\", \"type\": \"scatter\", \"x\": [50000000000.0, 81034482758.6207, 112068965517.24138, 143103448275.86206, 174137931034.48276, 205172413793.10345, 236206896551.72412, 267241379310.34482, 298275862068.9655, 329310344827.5862, 360344827586.2069, 391379310344.8276, 422413793103.44824, 453448275862.069, 484482758620.68964, 515517241379.31036, 546551724137.931, 577586206896.5518, 608620689655.1724, 639655172413.7931, 670689655172.4138, 701724137931.0344, 732758620689.6552, 763793103448.2759, 794827586206.8965, 825862068965.5172, 856896551724.138, 887931034482.7587, 918965517241.3793, 950000000000.0], \"y\": [5000000000000.0, 3085106382978.723, 2230769230769.231, 1746987951807.229, 1435643564356.4355, 1218487394957.9832, 1058394160583.9417, 935483870967.742, 838150289017.3411, 759162303664.9215, 693779904306.2201, 638766519823.7886, 591836734693.8776, 551330798479.0874, 516014234875.4448, 484949832775.9197, 457413249211.35645, 432835820895.52234, 410764872521.24646, 390835579514.8248, 372750642673.52185, 356265356265.35626, 341176470588.2353, 327313769751.693, 314533622559.65295, 302713987473.904, 291750503018.10864, 281553398058.2524, 272045028142.5891, 263157894736.8421]}, {\"mode\": \"lines\", \"name\": \"line\", \"type\": \"scatter\", \"x\": [50000000000.0, 81034482758.6207, 112068965517.24138, 143103448275.86206, 174137931034.48276, 205172413793.10345, 236206896551.72412, 267241379310.34482, 298275862068.9655, 329310344827.5862, 360344827586.2069, 391379310344.8276, 422413793103.44824, 453448275862.069, 484482758620.68964, 515517241379.31036, 546551724137.931, 577586206896.5518, 608620689655.1724, 639655172413.7931, 670689655172.4138, 701724137931.0344, 732758620689.6552, 763793103448.2759, 794827586206.8965, 825862068965.5172, 856896551724.138, 887931034482.7587, 918965517241.3793, 950000000000.0], \"y\": [950000000000.0, 918965517241.3793, 887931034482.7587, 856896551724.138, 825862068965.5172, 794827586206.8965, 763793103448.2759, 732758620689.6552, 701724137931.0344, 670689655172.4138, 639655172413.7931, 608620689655.1724, 577586206896.5518, 546551724137.931, 515517241379.31036, 484482758620.68964, 453448275862.069, 422413793103.44824, 391379310344.82764, 360344827586.2069, 329310344827.5862, 298275862068.9656, 267241379310.34485, 236206896551.72412, 205172413793.10352, 174137931034.4828, 143103448275.86206, 112068965517.24133, 81034482758.62073, 50000000000.0]}],\n",
              "                        {\"autosize\": false, \"height\": 800, \"paper_bgcolor\": \"rgb(224,224,224)\", \"plot_bgcolor\": \"rgb(224,224,224)\", \"template\": {\"data\": {\"bar\": [{\"error_x\": {\"color\": \"#2a3f5f\"}, \"error_y\": {\"color\": \"#2a3f5f\"}, \"marker\": {\"line\": {\"color\": \"#E5ECF6\", \"width\": 0.5}}, \"type\": \"bar\"}], \"barpolar\": [{\"marker\": {\"line\": {\"color\": \"#E5ECF6\", \"width\": 0.5}}, \"type\": \"barpolar\"}], \"carpet\": [{\"aaxis\": {\"endlinecolor\": \"#2a3f5f\", \"gridcolor\": \"white\", \"linecolor\": \"white\", \"minorgridcolor\": \"white\", \"startlinecolor\": \"#2a3f5f\"}, \"baxis\": {\"endlinecolor\": \"#2a3f5f\", \"gridcolor\": \"white\", \"linecolor\": \"white\", \"minorgridcolor\": \"white\", \"startlinecolor\": \"#2a3f5f\"}, \"type\": \"carpet\"}], \"choropleth\": [{\"colorbar\": {\"outlinewidth\": 0, \"ticks\": \"\"}, \"type\": \"choropleth\"}], \"contour\": [{\"colorbar\": {\"outlinewidth\": 0, \"ticks\": \"\"}, \"colorscale\": [[0.0, \"#0d0887\"], [0.1111111111111111, \"#46039f\"], [0.2222222222222222, \"#7201a8\"], [0.3333333333333333, \"#9c179e\"], [0.4444444444444444, \"#bd3786\"], [0.5555555555555556, \"#d8576b\"], [0.6666666666666666, \"#ed7953\"], [0.7777777777777778, \"#fb9f3a\"], [0.8888888888888888, \"#fdca26\"], [1.0, \"#f0f921\"]], \"type\": \"contour\"}], \"contourcarpet\": [{\"colorbar\": {\"outlinewidth\": 0, \"ticks\": \"\"}, \"type\": \"contourcarpet\"}], \"heatmap\": [{\"colorbar\": {\"outlinewidth\": 0, \"ticks\": \"\"}, \"colorscale\": [[0.0, \"#0d0887\"], [0.1111111111111111, \"#46039f\"], [0.2222222222222222, \"#7201a8\"], [0.3333333333333333, \"#9c179e\"], [0.4444444444444444, \"#bd3786\"], [0.5555555555555556, \"#d8576b\"], [0.6666666666666666, \"#ed7953\"], [0.7777777777777778, \"#fb9f3a\"], [0.8888888888888888, \"#fdca26\"], [1.0, \"#f0f921\"]], \"type\": \"heatmap\"}], \"heatmapgl\": [{\"colorbar\": {\"outlinewidth\": 0, \"ticks\": \"\"}, \"colorscale\": [[0.0, \"#0d0887\"], [0.1111111111111111, \"#46039f\"], [0.2222222222222222, \"#7201a8\"], [0.3333333333333333, \"#9c179e\"], [0.4444444444444444, \"#bd3786\"], [0.5555555555555556, \"#d8576b\"], [0.6666666666666666, \"#ed7953\"], [0.7777777777777778, \"#fb9f3a\"], [0.8888888888888888, \"#fdca26\"], [1.0, \"#f0f921\"]], \"type\": \"heatmapgl\"}], \"histogram\": [{\"marker\": {\"colorbar\": {\"outlinewidth\": 0, \"ticks\": \"\"}}, \"type\": \"histogram\"}], \"histogram2d\": [{\"colorbar\": {\"outlinewidth\": 0, \"ticks\": \"\"}, \"colorscale\": [[0.0, \"#0d0887\"], [0.1111111111111111, \"#46039f\"], [0.2222222222222222, \"#7201a8\"], [0.3333333333333333, \"#9c179e\"], [0.4444444444444444, \"#bd3786\"], [0.5555555555555556, \"#d8576b\"], [0.6666666666666666, \"#ed7953\"], [0.7777777777777778, \"#fb9f3a\"], [0.8888888888888888, \"#fdca26\"], [1.0, \"#f0f921\"]], \"type\": \"histogram2d\"}], \"histogram2dcontour\": [{\"colorbar\": {\"outlinewidth\": 0, \"ticks\": \"\"}, \"colorscale\": [[0.0, \"#0d0887\"], [0.1111111111111111, \"#46039f\"], [0.2222222222222222, \"#7201a8\"], [0.3333333333333333, \"#9c179e\"], [0.4444444444444444, \"#bd3786\"], [0.5555555555555556, \"#d8576b\"], [0.6666666666666666, \"#ed7953\"], [0.7777777777777778, \"#fb9f3a\"], [0.8888888888888888, \"#fdca26\"], [1.0, \"#f0f921\"]], \"type\": \"histogram2dcontour\"}], \"mesh3d\": [{\"colorbar\": {\"outlinewidth\": 0, \"ticks\": \"\"}, \"type\": \"mesh3d\"}], \"parcoords\": [{\"line\": {\"colorbar\": {\"outlinewidth\": 0, \"ticks\": \"\"}}, \"type\": \"parcoords\"}], \"pie\": [{\"automargin\": true, \"type\": \"pie\"}], \"scatter\": [{\"marker\": {\"colorbar\": {\"outlinewidth\": 0, \"ticks\": \"\"}}, \"type\": \"scatter\"}], \"scatter3d\": [{\"line\": {\"colorbar\": {\"outlinewidth\": 0, \"ticks\": \"\"}}, \"marker\": {\"colorbar\": {\"outlinewidth\": 0, \"ticks\": \"\"}}, \"type\": \"scatter3d\"}], \"scattercarpet\": [{\"marker\": {\"colorbar\": {\"outlinewidth\": 0, \"ticks\": \"\"}}, \"type\": \"scattercarpet\"}], \"scattergeo\": [{\"marker\": {\"colorbar\": {\"outlinewidth\": 0, \"ticks\": \"\"}}, \"type\": \"scattergeo\"}], \"scattergl\": [{\"marker\": {\"colorbar\": {\"outlinewidth\": 0, \"ticks\": \"\"}}, \"type\": \"scattergl\"}], \"scattermapbox\": [{\"marker\": {\"colorbar\": {\"outlinewidth\": 0, \"ticks\": \"\"}}, \"type\": \"scattermapbox\"}], \"scatterpolar\": [{\"marker\": {\"colorbar\": {\"outlinewidth\": 0, \"ticks\": \"\"}}, \"type\": \"scatterpolar\"}], \"scatterpolargl\": [{\"marker\": {\"colorbar\": {\"outlinewidth\": 0, \"ticks\": \"\"}}, \"type\": \"scatterpolargl\"}], \"scatterternary\": [{\"marker\": {\"colorbar\": {\"outlinewidth\": 0, \"ticks\": \"\"}}, \"type\": \"scatterternary\"}], \"surface\": [{\"colorbar\": {\"outlinewidth\": 0, \"ticks\": \"\"}, \"colorscale\": [[0.0, \"#0d0887\"], [0.1111111111111111, \"#46039f\"], [0.2222222222222222, \"#7201a8\"], [0.3333333333333333, \"#9c179e\"], [0.4444444444444444, \"#bd3786\"], [0.5555555555555556, \"#d8576b\"], [0.6666666666666666, \"#ed7953\"], [0.7777777777777778, \"#fb9f3a\"], [0.8888888888888888, \"#fdca26\"], [1.0, \"#f0f921\"]], \"type\": \"surface\"}], \"table\": [{\"cells\": {\"fill\": {\"color\": \"#EBF0F8\"}, \"line\": {\"color\": \"white\"}}, \"header\": {\"fill\": {\"color\": \"#C8D4E3\"}, \"line\": {\"color\": \"white\"}}, \"type\": \"table\"}]}, \"layout\": {\"annotationdefaults\": {\"arrowcolor\": \"#2a3f5f\", \"arrowhead\": 0, \"arrowwidth\": 1}, \"coloraxis\": {\"colorbar\": {\"outlinewidth\": 0, \"ticks\": \"\"}}, \"colorscale\": {\"diverging\": [[0, \"#8e0152\"], [0.1, \"#c51b7d\"], [0.2, \"#de77ae\"], [0.3, \"#f1b6da\"], [0.4, \"#fde0ef\"], [0.5, \"#f7f7f7\"], [0.6, \"#e6f5d0\"], [0.7, \"#b8e186\"], [0.8, \"#7fbc41\"], [0.9, \"#4d9221\"], [1, \"#276419\"]], \"sequential\": [[0.0, \"#0d0887\"], [0.1111111111111111, \"#46039f\"], [0.2222222222222222, \"#7201a8\"], [0.3333333333333333, \"#9c179e\"], [0.4444444444444444, \"#bd3786\"], [0.5555555555555556, \"#d8576b\"], [0.6666666666666666, \"#ed7953\"], [0.7777777777777778, \"#fb9f3a\"], [0.8888888888888888, \"#fdca26\"], [1.0, \"#f0f921\"]], \"sequentialminus\": [[0.0, \"#0d0887\"], [0.1111111111111111, \"#46039f\"], [0.2222222222222222, \"#7201a8\"], [0.3333333333333333, \"#9c179e\"], [0.4444444444444444, \"#bd3786\"], [0.5555555555555556, \"#d8576b\"], [0.6666666666666666, \"#ed7953\"], [0.7777777777777778, \"#fb9f3a\"], [0.8888888888888888, \"#fdca26\"], [1.0, \"#f0f921\"]]}, \"colorway\": [\"#636efa\", \"#EF553B\", \"#00cc96\", \"#ab63fa\", \"#FFA15A\", \"#19d3f3\", \"#FF6692\", \"#B6E880\", \"#FF97FF\", \"#FECB52\"], \"font\": {\"color\": \"#2a3f5f\"}, \"geo\": {\"bgcolor\": \"white\", \"lakecolor\": \"white\", \"landcolor\": \"#E5ECF6\", \"showlakes\": true, \"showland\": true, \"subunitcolor\": \"white\"}, \"hoverlabel\": {\"align\": \"left\"}, \"hovermode\": \"closest\", \"mapbox\": {\"style\": \"light\"}, \"paper_bgcolor\": \"white\", \"plot_bgcolor\": \"#E5ECF6\", \"polar\": {\"angularaxis\": {\"gridcolor\": \"white\", \"linecolor\": \"white\", \"ticks\": \"\"}, \"bgcolor\": \"#E5ECF6\", \"radialaxis\": {\"gridcolor\": \"white\", \"linecolor\": \"white\", \"ticks\": \"\"}}, \"scene\": {\"xaxis\": {\"backgroundcolor\": \"#E5ECF6\", \"gridcolor\": \"white\", \"gridwidth\": 2, \"linecolor\": \"white\", \"showbackground\": true, \"ticks\": \"\", \"zerolinecolor\": \"white\"}, \"yaxis\": {\"backgroundcolor\": \"#E5ECF6\", \"gridcolor\": \"white\", \"gridwidth\": 2, \"linecolor\": \"white\", \"showbackground\": true, \"ticks\": \"\", \"zerolinecolor\": \"white\"}, \"zaxis\": {\"backgroundcolor\": \"#E5ECF6\", \"gridcolor\": \"white\", \"gridwidth\": 2, \"linecolor\": \"white\", \"showbackground\": true, \"ticks\": \"\", \"zerolinecolor\": \"white\"}}, \"shapedefaults\": {\"line\": {\"color\": \"#2a3f5f\"}}, \"ternary\": {\"aaxis\": {\"gridcolor\": \"white\", \"linecolor\": \"white\", \"ticks\": \"\"}, \"baxis\": {\"gridcolor\": \"white\", \"linecolor\": \"white\", \"ticks\": \"\"}, \"bgcolor\": \"#E5ECF6\", \"caxis\": {\"gridcolor\": \"white\", \"linecolor\": \"white\", \"ticks\": \"\"}}, \"title\": {\"x\": 0.05}, \"xaxis\": {\"automargin\": true, \"gridcolor\": \"white\", \"linecolor\": \"white\", \"ticks\": \"\", \"title\": {\"standoff\": 15}, \"zerolinecolor\": \"white\", \"zerolinewidth\": 2}, \"yaxis\": {\"automargin\": true, \"gridcolor\": \"white\", \"linecolor\": \"white\", \"ticks\": \"\", \"title\": {\"standoff\": 15}, \"zerolinecolor\": \"white\", \"zerolinewidth\": 2}}}, \"title\": {\"text\": \"Bonding curves\"}, \"width\": 800, \"xaxis\": {\"range\": [0, 1000000000000], \"title\": {\"text\": \"x amount\"}}, \"yaxis\": {\"range\": [0, 1000000000000], \"title\": {\"text\": \"y amount\"}}},\n",
              "                        {\"responsive\": true}\n",
              "                    ).then(function(){\n",
              "                            \n",
              "var gd = document.getElementById('e4318a3d-4b2d-4d26-8d1d-db9ca4970e81');\n",
              "var x = new MutationObserver(function (mutations, observer) {{\n",
              "        var display = window.getComputedStyle(gd).display;\n",
              "        if (!display || display === 'none') {{\n",
              "            console.log([gd, 'removed!']);\n",
              "            Plotly.purge(gd);\n",
              "            observer.disconnect();\n",
              "        }}\n",
              "}});\n",
              "\n",
              "// Listen for the removal of the full notebook cells\n",
              "var notebookContainer = gd.closest('#notebook-container');\n",
              "if (notebookContainer) {{\n",
              "    x.observe(notebookContainer, {childList: true});\n",
              "}}\n",
              "\n",
              "// Listen for the clearing of the current output cell\n",
              "var outputEl = gd.closest('.output');\n",
              "if (outputEl) {{\n",
              "    x.observe(outputEl, {childList: true});\n",
              "}}\n",
              "\n",
              "                        })\n",
              "                };\n",
              "                \n",
              "            </script>\n",
              "        </div>\n",
              "</body>\n",
              "</html>"
            ]
          },
          "metadata": {
            "tags": []
          }
        }
      ]
    },
    {
      "cell_type": "markdown",
      "metadata": {
        "id": "ejNgIToiSsxG"
      },
      "source": [
        "\n",
        "\n",
        "---\n",
        "\n",
        "\n",
        "\n",
        "\n",
        "### Калькулятор: cравнение uniswap, flatV1  и flatV2\n",
        "В v1 один параметр (*alpha*), в v2 два \n",
        "\n",
        "\n",
        "$skewness = 0.5(\\frac{x}{y}+\\frac{y}{x}) $\n",
        "\n",
        "**v1**: $inv = (x+y) \\cdot skewness^{-\\alpha}+ (x \\cdot y)\\cdot skewness^{\\alpha} $\n",
        "\n",
        "**v2**: $inv = (x+y) \\cdot skewness^{-\\alpha}+ 2\\cdot(x \\cdot y)^{0.5}\\cdot (skewness-\\beta)^{\\alpha} $\n",
        "\n",
        "*alpha* - влияние скошенности портфеля. Чем больше *alpha*, тем быстрее убывает вклад инварианта суммы x+y и возрастает вклад инварианта y*x\n",
        "\n",
        "*betta* - \"прижатость\" к прямолинейной зависимости"
      ]
    },
    {
      "cell_type": "code",
      "metadata": {
        "id": "FDFKWIpDy1jv"
      },
      "source": [
        "x_balance = 2000009999 #500k with 6 digits\n",
        "y_balance = 2000000000\n",
        "alpha_for_V2 = 0.50\n",
        "betta_for_V2 = 0.46\n",
        "#you_pay_in_x = 10000000000\n",
        "you_pay_in_x = 1000000\n",
        "               \n"
      ],
      "execution_count": null,
      "outputs": []
    },
    {
      "cell_type": "code",
      "metadata": {
        "id": "Mxe7DjMOyyAN",
        "colab": {
          "base_uri": "https://localhost:8080/",
          "height": 365
        },
        "cellView": "form",
        "outputId": "287b80bb-6c8e-4178-cb19-d1b74a8c9389"
      },
      "source": [
        "#@title\n",
        "\n",
        "updated_X_amount = x_balance + you_pay_in_x\n",
        "you_get_flat_v2 = find_how_many_you_getV2(x_balance,y_balance,updated_X_amount,alpha_for_V2,betta_for_V2)\n",
        "you_get_uniswap = find_how_many_you_get_uniswap(updated_X_amount)\n",
        "\n",
        "price_in_contract =  x_balance/y_balance\n",
        "#price_flat_v1 = you_pay_in_x/you_get_flat_v1\n",
        "price_flat_v2 = you_pay_in_x/you_get_flat_v2\n",
        "price_uniswap = you_pay_in_x/you_get_uniswap\n",
        "\n",
        "#slippage_flat_v1 = price_in_contract/price_flat_v1\n",
        "slippage_flat_v2 = price_in_contract/price_flat_v2\n",
        "slippage_uniswap = price_in_contract/price_uniswap\n",
        "\n",
        "display_table([[\"\",\"balance x\",\"balance y\"],\n",
        "              [\"\",x_balance,y_balance]])\n",
        "print()\n",
        "data = [[\"\",\"you pay in x\",\"you get in y(without fee)\",\"you get in y(with fee 0.05%)\",\"governance fee(0.02/0.05 of fee)\",\"buy price\",\"slippage % (price in contract x/y to actual price)\"],\n",
        "        [\"flat v2\",you_pay_in_x,you_get_flat_v2,(1-0.0005)*you_get_flat_v2,(0.0002)*you_get_flat_v2,price_flat_v2,100*(1-slippage_flat_v2)],\n",
        "        [\"uniswap\",you_pay_in_x,you_get_uniswap,(1-0.0005)*you_get_uniswap,(0.0002)*you_get_uniswap,price_uniswap,100*(1-slippage_uniswap)]]\n",
        "display_table(data)\n",
        "\n",
        "print()\n",
        "\n",
        "display_table([[\"\",\"balance x  new\",\"balance y new\"],\n",
        "              [\"\",x_balance+you_pay_in_x, y_balance - you_get_flat_v2+(0.0003)*you_get_flat_v2]])\n"
      ],
      "execution_count": null,
      "outputs": [
        {
          "output_type": "display_data",
          "data": {
            "text/html": [
              "<table><tr><td><h4></h4><td><td><h4>balance x</h4><td><td><h4>balance y</h4><td></tr><tr><td><h4></h4><td><td><h4>2000009999</h4><td><td><h4>2000000000</h4><td></tr></table>"
            ],
            "text/plain": [
              "<IPython.core.display.HTML object>"
            ]
          },
          "metadata": {
            "tags": []
          }
        },
        {
          "output_type": "stream",
          "text": [
            "\n"
          ],
          "name": "stdout"
        },
        {
          "output_type": "display_data",
          "data": {
            "text/html": [
              "<table><tr><td><h4></h4><td><td><h4>you pay in x</h4><td><td><h4>you get in y(without fee)</h4><td><td><h4>you get in y(with fee 0.05%)</h4><td><td><h4>governance fee(0.02/0.05 of fee)</h4><td><td><h4>buy price</h4><td><td><h4>slippage % (price in contract x/y to actual price)</h4><td></tr><tr><td><h4>flat v2</h4><td><td><h4>1000000</h4><td><td><h4>999993.1203110218</h4><td><td><h4>999493.1237508664</h4><td><td><h4>199.99862406220436</h4><td><td><h4>1.0000068797363086</h4><td><td><h4>0.00018802233732184703</h4><td></tr><tr><td><h4>uniswap</h4><td><td><h4>1000000</h4><td><td><h4>999495.2553958893</h4><td><td><h4>998995.5077681914</h4><td><td><h4>199.89905107917787</h4><td><td><h4>1.0005049994998834</h4><td><td><h4>0.04997476275814261</h4><td></tr></table>"
            ],
            "text/plain": [
              "<IPython.core.display.HTML object>"
            ]
          },
          "metadata": {
            "tags": []
          }
        },
        {
          "output_type": "stream",
          "text": [
            "\n"
          ],
          "name": "stdout"
        },
        {
          "output_type": "display_data",
          "data": {
            "text/html": [
              "<table><tr><td><h4></h4><td><td><h4>balance x  new</h4><td><td><h4>balance y new</h4><td></tr><tr><td><h4></h4><td><td><h4>2001009999</h4><td><td><h4>1999000306.877625</h4><td></tr></table>"
            ],
            "text/plain": [
              "<IPython.core.display.HTML object>"
            ]
          },
          "metadata": {
            "tags": []
          }
        }
      ]
    },
    {
      "cell_type": "markdown",
      "metadata": {
        "id": "iXIhzRAbDdzQ"
      },
      "source": [
        "\n",
        "\n",
        "---\n",
        "\n",
        "\n",
        "\n",
        "\n",
        "### Калькулятор: cравнение uniswap и flatV2, расчёты аналогичные RIDE\n",
        "\n",
        "Отличие этого блока от предыдущего в том, что инвариант расчитывается аналогично Ride\n",
        "\n",
        "\n",
        "В v1 один параметр (*alpha*), в v2 два \n",
        "\n",
        "\n",
        "$skewness = 0.5(\\frac{x}{y}+\\frac{y}{x}) $\n",
        "\n",
        "**v1**: $inv = (x+y) \\cdot skewness^{-\\alpha}+ (x \\cdot y)\\cdot skewness^{\\alpha} $\n",
        "\n",
        "**v2**: $inv = (x+y) \\cdot skewness^{-\\alpha}+ 2\\cdot(x \\cdot y)^{0.5}\\cdot (skewness-\\beta)^{\\alpha} $\n",
        "\n",
        "*alpha* - влияние скошенности портфеля. Чем больше *alpha*, тем быстрее убывает вклад инварианта суммы x+y и возрастает вклад инварианта y*x\n",
        "\n",
        "*betta* - \"прижатость\" к прямолинейной зависимости\n"
      ]
    },
    {
      "cell_type": "code",
      "metadata": {
        "id": "ul3Byu23ESwB"
      },
      "source": [
        "x_balance = 2028062629151\n",
        "y_balance = 2731131039730\n",
        "alpha_for_V2 = 0.50\n",
        "betta_for_V2 = 0.46\n",
        "you_pay_in_x = 100000000\n",
        "\n",
        "def find_how_many_you_getV2(x_balance,y_balance,x_balance_new,alpha,betta):\n",
        "  actual_invarian = invV2(x_balance,y_balance,alpha,betta)\n",
        "  y_left = 1\n",
        "  y_right = 100*y_balance \n",
        "  for _ in range(50):\n",
        "    mean = (y_left + y_right)/2\n",
        "    invariant_delta_in_left = actual_invarian - invV2(x_balance_new,y_left,alpha,betta)\n",
        "    invariant_delta_in_right = actual_invarian - invV2(x_balance_new,y_right,alpha,betta)\n",
        "    invariant_delta_in_mean = actual_invarian - invV2(x_balance_new,mean,alpha,betta)\n",
        "    if invariant_delta_in_mean*invariant_delta_in_left < 0:\n",
        "      y_left = y_left\n",
        "      y_right = mean\n",
        "    elif invariant_delta_in_mean*invariant_delta_in_right <0:\n",
        "      y_left = mean\n",
        "      y_right = y_right\n",
        "    else:\n",
        "      return y_balance -  mean\n",
        "  return y_balance -  mean\n",
        "\n",
        "#print (find_how_many_you_getV2(x_balance, y_balance, x_balance+you_pay_in_x, alpha_for_V2, betta_for_V2))"
      ],
      "execution_count": null,
      "outputs": []
    },
    {
      "cell_type": "code",
      "metadata": {
        "id": "2d9_jZ8jDdeU",
        "colab": {
          "base_uri": "https://localhost:8080/",
          "height": 365
        },
        "cellView": "form",
        "outputId": "26694de9-5055-4fcc-8113-07793d745692"
      },
      "source": [
        "#@title\n",
        "# rewrite as Ride logic\n",
        "\n",
        "updated_X_amount = x_balance + you_pay_in_x\n",
        "you_get_flat_v2 = int(find_how_many_you_getV2(x_balance,y_balance,updated_X_amount,alpha_for_V2,betta_for_V2))\n",
        "you_get_uniswap = find_how_many_you_get_uniswap(updated_X_amount)\n",
        "\n",
        "price_in_contract =  x_balance/y_balance\n",
        "#price_flat_v1 = you_pay_in_x/you_get_flat_v1\n",
        "price_flat_v2 = you_pay_in_x/you_get_flat_v2\n",
        "price_uniswap = you_pay_in_x/you_get_uniswap\n",
        "\n",
        "#slippage_flat_v1 = price_in_contract/price_flat_v1\n",
        "slippage_flat_v2 = price_in_contract/price_flat_v2\n",
        "slippage_uniswap = price_in_contract/price_uniswap\n",
        "\n",
        "display_table([[\"\",\"balance x\",\"balance y\"],\n",
        "              [\"\",x_balance,y_balance]])\n",
        "print()\n",
        "data = [[\"\",\"you pay in x\",\"you get in y(without fee)\",\"you get in y(with fee 0.05%)\",\"governance fee(0.02/0.05 of fee)\",\"buy price\",\"slippage % (price in contract x/y to actual price)\"],\n",
        "        [\"flat v2\",you_pay_in_x,you_get_flat_v2,(1-0.0005)*you_get_flat_v2,(0.0002)*you_get_flat_v2,price_flat_v2,100*(1-slippage_flat_v2)],\n",
        "        [\"uniswap\",you_pay_in_x,you_get_uniswap,(1-0.0005)*you_get_uniswap,(0.0002)*you_get_uniswap,price_uniswap,100*(1-slippage_uniswap)]]\n",
        "display_table(data)\n",
        "\n",
        "print()\n",
        "\n",
        "display_table([[\"\",\"balance x  new\",\"balance y new(without fee)\"],\n",
        "              [\"\",x_balance+you_pay_in_x, y_balance - you_get_flat_v2 ]])"
      ],
      "execution_count": null,
      "outputs": [
        {
          "output_type": "display_data",
          "data": {
            "text/html": [
              "<table><tr><td><h4></h4><td><td><h4>balance x</h4><td><td><h4>balance y</h4><td></tr><tr><td><h4></h4><td><td><h4>2028062629151</h4><td><td><h4>2731131039730</h4><td></tr></table>"
            ],
            "text/plain": [
              "<IPython.core.display.HTML object>"
            ]
          },
          "metadata": {
            "tags": []
          }
        },
        {
          "output_type": "stream",
          "text": [
            "\n"
          ],
          "name": "stdout"
        },
        {
          "output_type": "display_data",
          "data": {
            "text/html": [
              "<table><tr><td><h4></h4><td><td><h4>you pay in x</h4><td><td><h4>you get in y(without fee)</h4><td><td><h4>you get in y(with fee 0.05%)</h4><td><td><h4>governance fee(0.02/0.05 of fee)</h4><td><td><h4>buy price</h4><td><td><h4>slippage % (price in contract x/y to actual price)</h4><td></tr><tr><td><h4>flat v2</h4><td><td><h4>100000000</h4><td><td><h4>100470777</h4><td><td><h4>100420541.61150001</h4><td><td><h4>20094.1554</h4><td><td><h4>0.9953142892485045</h4><td><td><h4>25.393170378376396</h4><td></tr><tr><td><h4>uniswap</h4><td><td><h4>100000000</h4><td><td><h4>134660357.13671875</h4><td><td><h4>134593026.9581504</h4><td><td><h4>26932.07142734375</h4><td><td><h4>0.7426090508468756</h4><td><td><h4>0.004930571143479945</h4><td></tr></table>"
            ],
            "text/plain": [
              "<IPython.core.display.HTML object>"
            ]
          },
          "metadata": {
            "tags": []
          }
        },
        {
          "output_type": "stream",
          "text": [
            "\n"
          ],
          "name": "stdout"
        },
        {
          "output_type": "display_data",
          "data": {
            "text/html": [
              "<table><tr><td><h4></h4><td><td><h4>balance x  new</h4><td><td><h4>balance y new(without fee)</h4><td></tr><tr><td><h4></h4><td><td><h4>2028162629151</h4><td><td><h4>2731030568953</h4><td></tr></table>"
            ],
            "text/plain": [
              "<IPython.core.display.HTML object>"
            ]
          },
          "metadata": {
            "tags": []
          }
        }
      ]
    },
    {
      "cell_type": "markdown",
      "metadata": {
        "id": "8UfBns3oS3OZ"
      },
      "source": [
        "\n",
        "\n",
        "---\n",
        "\n",
        "\n",
        "\n",
        "### Бонусы и штрафы при внесении только одного токена: Uniswap\n",
        "В начальный мометн времени обменники находятся в состоянии равновесия\n",
        "\n",
        "Происходит смещение портфеля так, что новое значение токенов х равно **x_balance_after_some_time**\n",
        "\n",
        "Второй депозитор вносит **deposit_in_x** токенов x\n",
        "\n",
        "В результате расчётов показывается, какое количество токенов может забрать первый и второй депозитор в зависимости от цены ассетов"
      ]
    },
    {
      "cell_type": "code",
      "metadata": {
        "id": "lkEdMsPx5EF7"
      },
      "source": [
        "x_balance_start = 1000 \n",
        "y_balance_start = x_balance_start\n",
        "\n",
        "x_balance_after_some_time = 0.9*x_balance_start #before new depositor come\n",
        "deposit_in_x = 100"
      ],
      "execution_count": null,
      "outputs": []
    },
    {
      "cell_type": "code",
      "metadata": {
        "id": "Yb_ljhKgyW4A",
        "cellView": "form"
      },
      "source": [
        "#@title\n",
        "invariant_start = x_balance_start*y_balance_start\n",
        "share_token_start = (x_balance_start*y_balance_start)**(0.5)\n",
        "\n",
        "#logic from https://docs.google.com/spreadsheets/d/1KO6gneFBoKCL7vBG3d6r06qGf6aMxRvA8hZcC2W5yBQ/edit#gid=1946128407\n",
        "y_balance_after_some_time = invariant_start/x_balance_after_some_time\n",
        "price_after_disbalance = x_balance_after_some_time/y_balance_after_some_time\n",
        "\n",
        "x_balance_after_deposit = x_balance_after_some_time + deposit_in_x\n",
        "y_balance_after_deposit = y_balance_after_some_time\n",
        "price_after_diposit = x_balance_after_deposit/y_balance_after_deposit\n",
        "invariant_after_deposit = x_balance_after_deposit*y_balance_after_deposit\n",
        "\n",
        "y_balance_first_old_invariant_new_price = (invariant_start/price_after_diposit)**0.5\n",
        "share_tokens_second_depositors = y_balance_after_deposit/y_balance_first_old_invariant_new_price*share_token_start - share_token_start \n",
        "\n",
        "balance_x_first_after_deposit = x_balance_after_deposit*share_token_start/(share_token_start+share_tokens_second_depositors)\n",
        "balance_x_second_after_deposit = x_balance_after_deposit*share_tokens_second_depositors/(share_token_start+share_tokens_second_depositors)\n",
        "balance_y_first_after_deposit = y_balance_after_deposit*share_token_start/(share_token_start+share_tokens_second_depositors)\n",
        "balance_y_second_after_deposit = y_balance_after_deposit*share_tokens_second_depositors/(share_token_start+share_tokens_second_depositors)\n",
        "\n",
        "\n",
        "balance_x_after_deposit_in_equilibrium = invariant_after_deposit**0.5\n",
        "balance_y_after_deposit_in_equilibrium = invariant_after_deposit**0.5\n",
        "price_in_equlibrium = balance_x_after_deposit_in_equilibrium/balance_y_after_deposit_in_equilibrium\n",
        "\n",
        "balance_x_first_after_deposit_equal = balance_x_after_deposit_in_equilibrium*share_token_start/(share_token_start+share_tokens_second_depositors)\n",
        "balance_x_second_after_deposit_equal = balance_x_after_deposit_in_equilibrium*share_tokens_second_depositors/(share_token_start+share_tokens_second_depositors)\n",
        "balance_y_first_after_deposit_equal = balance_y_after_deposit_in_equilibrium*share_token_start/(share_token_start+share_tokens_second_depositors)\n",
        "balance_y_second_after_deposit_equal = balance_y_after_deposit_in_equilibrium*share_tokens_second_depositors/(share_token_start+share_tokens_second_depositors)\n",
        "\n",
        "balance_y_after_deposit_in_disbalance  = (invariant_after_deposit/price_after_disbalance)**0.5\n",
        "balance_x_after_deposit_in_disbalance = invariant_after_deposit/balance_y_after_deposit_in_disbalance\n",
        "\n",
        "balance_x_first_after_deposit_disbalance = balance_x_after_deposit_in_disbalance*share_token_start/(share_token_start+share_tokens_second_depositors)\n",
        "balance_x_second_after_deposit_disbalance = balance_x_after_deposit_in_disbalance*share_tokens_second_depositors/(share_token_start+share_tokens_second_depositors)\n",
        "balance_y_first_after_deposit_disbalance = balance_y_after_deposit_in_disbalance*share_token_start/(share_token_start+share_tokens_second_depositors)\n",
        "balance_y_second_after_deposit_disbalance = balance_y_after_deposit_in_disbalance*share_tokens_second_depositors/(share_token_start+share_tokens_second_depositors)\n",
        "\n",
        "print(\"price in equlibrium: \" +str(price_in_equlibrium))\n",
        "print(\"price in contract after disbalance: \" + str(price_after_disbalance))\n",
        "print(\"price in contract after deposit: \" + str(price_after_diposit))\n",
        "print()\n",
        "\n",
        "\n",
        "\n",
        "print(\"withdraw after deposit with price \" + str(price_in_equlibrium))\n",
        "data = [[\"\",\"x\",\"y\"],\n",
        "        [\"first depositor\",balance_x_first_after_deposit_equal,balance_y_first_after_deposit_equal],\n",
        "        [\"second depositor\",balance_x_second_after_deposit_equal,balance_y_second_after_deposit_equal],\n",
        "        ]\n",
        "display_table(data)\n",
        "print()\n",
        "print()\n",
        "print()\n",
        "\n",
        "print(\"withdraw after deposit with price \" + str(price_after_diposit))\n",
        "data = [[\"\",\"x\",\"y\"],\n",
        "        [\"first depositor\",balance_x_first_after_deposit,balance_y_first_after_deposit],\n",
        "        [\"second depositor\",balance_x_second_after_deposit,balance_y_second_after_deposit],\n",
        "        ]\n",
        "display_table(data)\n",
        "\n",
        "print()\n",
        "print()\n",
        "print()\n",
        "\n",
        "print(\"withdraw after deposit with price \" + str(price_after_disbalance))\n",
        "data = [[\"\",\"x\",\"y\"],\n",
        "        [\"first depositor\",balance_x_first_after_deposit_disbalance,balance_y_first_after_deposit_disbalance],\n",
        "        [\"second depositor\",balance_x_second_after_deposit_disbalance,balance_y_second_after_deposit_disbalance],\n",
        "        ]\n",
        "display_table(data)\n",
        "\n",
        "\n",
        "\n"
      ],
      "execution_count": null,
      "outputs": []
    },
    {
      "cell_type": "markdown",
      "metadata": {
        "id": "HoKyNFWwPP6K"
      },
      "source": [
        "---\n",
        "\n",
        "###  Пополнение одним токеном: flatV2\n",
        "\n",
        "\n",
        "\n",
        "В начальный мометн времени обменники находятся в состоянии равновесия\n",
        "\n",
        "\n",
        "Второй депозитор вносит **deposit_in_x** токенов x\n",
        "\n",
        "В результате расчётов выводтся аргументы функции - количество сколько пользователь должен заплатить и сколько получить в ходе \"виртуального\" свопа\n"
      ]
    },
    {
      "cell_type": "code",
      "metadata": {
        "id": "h4ywkxqEU7G7"
      },
      "source": [
        "\n",
        "x_balance = 161655198219 #159721291500 #500k with 6 digits\n",
        "y_balance = 206094774232 #211452045402\n",
        "s_supply = 1000000000\n",
        "managment_staking_fee = 0.27*1e6 \n",
        "alpha = 0.50\n",
        "betta = 0.46\n",
        "deposit_in_x = 398103000  #0.1*x_balance_start\n"
      ],
      "execution_count": null,
      "outputs": []
    },
    {
      "cell_type": "code",
      "metadata": {
        "id": "7lqwKnrcPYTc",
        "cellView": "form"
      },
      "source": [
        "#@title\n",
        "\n",
        "\n",
        "def find_same_proportion(x_balance,y_balance,deposit_in_x):  \n",
        "  x_left = 1\n",
        "  x_right = deposit_in_x\n",
        "  for _ in range(50):\n",
        "    x_virtual_swap_pay = int((x_left + x_right)/2)\n",
        "    y_virtual_swap_get = int(find_how_many_you_getV2(x_balance,\n",
        "                        y_balance,\n",
        "                        x_balance+x_virtual_swap_pay,\n",
        "                        alpha,\n",
        "                        betta))\n",
        "    \n",
        "    ratio_in_contract_aftrer_virtual_swap = (x_balance+x_virtual_swap_pay)/(y_balance-y_virtual_swap_get)\n",
        "    \n",
        "    x_to_deposit = deposit_in_x - x_virtual_swap_pay \n",
        "    y_to_deposit = y_virtual_swap_get \n",
        "    # print(x_left,x_right)\n",
        "    # print(ratio_in_contract_aftrer_virtual_swap,x_to_deposit/y_to_deposit, ratio_in_contract_aftrer_virtual_swap/(x_to_deposit/y_to_deposit))\n",
        "    # print()\n",
        "\n",
        "    ratio_virtual_replanish = int(x_to_deposit)/int(y_to_deposit)\n",
        "    print(ratio_in_contract_aftrer_virtual_swap-ratio_virtual_replanish)\n",
        "    if ratio_in_contract_aftrer_virtual_swap-ratio_virtual_replanish > 0:\n",
        "      x_left = x_left\n",
        "      x_right = x_virtual_swap_pay\n",
        "    elif ratio_in_contract_aftrer_virtual_swap-ratio_virtual_replanish < 0 :\n",
        "      x_left = x_virtual_swap_pay\n",
        "      x_right = x_right\n",
        "    else:\n",
        "      print(\"first and second arg in replanishmentWithOneToken\")\n",
        "      print(\"x_virtual_swap_pay\",x_virtual_swap_pay,\", y_virtual_swap_get\",y_virtual_swap_get)\n",
        "      print()\n",
        "      print(\"your share after swap: \",y_virtual_swap_get/(y_balance-y_virtual_swap_get))\n",
        "      return deposit_in_x-x_virtual_swap_pay,y_virtual_swap_get\n",
        "  print(\"first and second arg in replanishmentWithOneToken\")\n",
        "  print(\"x_virtual_swap_pay\",int(x_virtual_swap_pay))\n",
        "  print(\"y_virtual_swap_get\",int(y_virtual_swap_get))\n",
        "  print()\n",
        "\n",
        "  ###\n",
        "  X_ = x_balance+x_virtual_swap_pay\n",
        "  Y_ = y_balance-y_virtual_swap_get\n",
        "  sh_x = (x_to_deposit-managment_staking_fee)/X_\n",
        "  sh_y = (y_to_deposit)/Y_\n",
        "  print(sh_x,sh_y)\n",
        "  print(sh_x*y_balance/1e6,sh_y*y_balance/1e6)\n",
        "  print(sh_x*(x_balance+deposit_in_x)/1e6,sh_y*(x_balance+deposit_in_x)/1e6)\n",
        "  # print(s_supply*(x_to_deposit-swap_comission)/X_,s_supply*y_to_deposit/Y_,(x_to_deposit/X_)/(y_to_deposit/Y_))\n",
        "  # print(\"get correct\",sh_max*(x_balance+deposit_in_x))\n",
        "  # print(\"get less\",sh_min*(x_balance+deposit_in_x) )\n",
        "  # print(\"get y\",sh_y*(x_balance+deposit_in_x),)\n",
        "  # print(sh_max*(x_balance+deposit_in_x),sh_min*(x_balance+deposit_in_x),(sh_min*(x_balance+deposit_in_x))/(sh_max*(x_balance+deposit_in_x)))\n",
        "  # print(sh_min*(x_balance+deposit_in_x)/1e6,sh_max*(x_balance+deposit_in_x)/1e6,(sh_min*(y_balance))/(sh_max*(y_balance)))\n",
        "  # print(sh_min*(y_balance)/1e6,sh_max*(y_balance)/1e6)\n",
        "  # print(sh_min*s_supply)\n",
        "  ###\n",
        "  \n",
        "  return deposit_in_x-x_virtual_swap_pay,y_virtual_swap_get\n",
        "\n",
        "invariant = invV2(x_balance,y_balance,alpha,betta)\n",
        "share_token = (x_balance*y_balance)**(0.5)\n",
        "\n",
        "x_to_replanish,y_to_replanish = find_same_proportion(x_balance,y_balance,deposit_in_x)\n"
      ],
      "execution_count": null,
      "outputs": []
    },
    {
      "cell_type": "code",
      "metadata": {
        "id": "-sYI9-xMwcBi"
      },
      "source": [
        ""
      ],
      "execution_count": null,
      "outputs": []
    },
    {
      "cell_type": "markdown",
      "metadata": {
        "id": "yRXV2a7pkQ2U"
      },
      "source": [
        "---\n",
        "\n",
        "###  Пополнение одним токеном c комиссией: flatV2\n",
        "\n",
        "Отличие от предыдущего блока в том, что внутренний своп содержит комиссию\n",
        "\n",
        "Мотивация к введению: сейчас через операцию пополнения в одном токене/снятия ликвидонсти можно получить другой токен выгоднее, нежели через обмен, т.к. не участвуют комиссии\n",
        "\n",
        "Логика решения\n",
        "\n",
        "![](https://drive.google.com/uc?export=view&id=1iBAo1GDJ_9HVcqtd-Bw_hrp8PVHUrW1r)"
      ]
    },
    {
      "cell_type": "code",
      "metadata": {
        "id": "pV09ZI4Vkaqp"
      },
      "source": [
        "x_balance = 170353426200 #500k with 6 digits\n",
        "y_balance = 203043614144\n",
        "alpha = 0.50\n",
        "betta = 0.46\n",
        "comission = 500\n",
        "comissionDelimiter = 10000000\n",
        "deposit_in_x = 1000000 #0.1*x_balance_start"
      ],
      "execution_count": null,
      "outputs": []
    },
    {
      "cell_type": "code",
      "metadata": {
        "id": "ltc7ZZf7kYXS",
        "colab": {
          "base_uri": "https://localhost:8080/"
        },
        "cellView": "form",
        "outputId": "41a0248c-4ab8-4568-cccf-74e61bfd5146"
      },
      "source": [
        "#@title\n",
        "\n",
        "def find_same_proportion(x_balance,y_balance,deposit_in_x):\n",
        "  x_left = 1\n",
        "  x_right = deposit_in_x\n",
        "  for _ in range(50):\n",
        "    x_virtual_swap_pay_before_comission = (x_left + x_right)/2\n",
        "    x_virtual_swap_pay = x_virtual_swap_pay_before_comission\n",
        "    y_virtual_swap_get_without_comission = find_how_many_you_getV2(x_balance,\n",
        "                        y_balance,\n",
        "                        x_balance+x_virtual_swap_pay,\n",
        "                        alpha,\n",
        "                        betta)\n",
        "    y_virtual_swap_get = y_virtual_swap_get_without_comission - y_virtual_swap_get_without_comission*comission/comissionDelimiter\n",
        "    ratio_in_contract_aftrer_virtual_swap = (x_balance+x_virtual_swap_pay)/(y_balance-y_virtual_swap_get)\n",
        "    x_to_deposit = deposit_in_x - x_virtual_swap_pay\n",
        "    y_to_deposit = y_virtual_swap_get\n",
        "    ratio_virtual_replanish = x_to_deposit/y_to_deposit\n",
        "    inv_new = invV2(x_balance+x_virtual_swap_pay,y_balance-y_to_deposit,alpha,betta)\n",
        "    inv_old = invV2(x_balance,y_balance,alpha,betta)\n",
        "    if ratio_virtual_replanish-ratio_in_contract_aftrer_virtual_swap < 0:\n",
        "      x_left = x_left\n",
        "      x_right = x_virtual_swap_pay\n",
        "    elif ratio_virtual_replanish - ratio_in_contract_aftrer_virtual_swap > 0 :\n",
        "      x_left = x_virtual_swap_pay\n",
        "      x_right = x_right\n",
        "    else:\n",
        "      print(\"first and second arg in replanishmentWithOneToken\")\n",
        "      print(\"x_virtual_swap_pay\",x_virtual_swap_pay,\", y_virtual_swap_get\",y_virtual_swap_get)\n",
        "      print('you pay in x', deposit_in_x)\n",
        "      print(\"comission in x\", deposit_in_x*comission/comissionDelimiter)\n",
        "      print(\"balance x after swap \", x_balance+x_virtual_swap_pay,\"balance y after swap \", y_balance - y_virtual_swap_get_without_comission)\n",
        "      print(\"your_share: \", x_to_deposit/(x_balance+x_virtual_swap_pay),y_to_deposit/(y_balance - y_virtual_swap_get))\n",
        "      print(\"invariants skeweness: \", invV2(x_balance,y_balance,alpha,betta)/invV2(x_balance+x_virtual_swap_pay,y_balance - y_virtual_swap_get,alpha,betta) )\n",
        "      return deposit_in_x-x_virtual_swap_pay,y_virtual_swap_get\n",
        "  \n",
        "  print(\"first and second arg in replanishmentWithOneToken\")\n",
        "  print(\"x_virtual_swap_pay\",x_virtual_swap_pay,\", y_virtual_swap_get\",y_virtual_swap_get)\n",
        "  print('you pay in x', deposit_in_x)\n",
        "  print(\"comission in y\", deposit_in_x*comission/comissionDelimiter)\n",
        "  print(\"balance x after swap \", x_balance+x_virtual_swap_pay,\"balance y after swap \", y_balance - y_virtual_swap_get_without_comission)\n",
        "  print(\"your_share A token and B token: \", x_to_deposit/(x_balance+x_virtual_swap_pay),y_to_deposit/(y_balance - y_virtual_swap_get))\n",
        "  print(\"invariants skeweness: \", invV2(x_balance,y_balance,alpha,betta)/invV2(x_balance+x_virtual_swap_pay,y_balance - y_virtual_swap_get_without_comission,alpha,betta) )\n",
        "  print(y_balance,y_virtual_swap_get_without_comission)\n",
        "  return deposit_in_x-x_virtual_swap_pay,y_virtual_swap_get\n",
        "\n",
        "invariant = invV2(x_balance,y_balance,alpha,betta)\n",
        "share_token = (x_balance*y_balance)**(0.5)\n",
        "\n",
        "x_to_replanish,y_to_replanish = find_same_proportion(x_balance,y_balance,deposit_in_x)"
      ],
      "execution_count": null,
      "outputs": [
        {
          "output_type": "stream",
          "text": [
            "first and second arg in replanishmentWithOneToken\n",
            "x_virtual_swap_pay 544207.0042572024 , y_virtual_swap_get 543255.111032727\n",
            "you pay in x 1000000\n",
            "comission in y 50.0\n",
            "balance x after swap  170353970407.00427 balance y after swap  203043070861.72485\n",
            "your_share A token and B token:  2.675564265709989e-06 2.675565872080471e-06\n",
            "invariants skeweness:  1.0\n",
            "203043614144 543282.2751464844\n"
          ],
          "name": "stdout"
        }
      ]
    },
    {
      "cell_type": "code",
      "metadata": {
        "id": "_ocktbCA7JBI",
        "cellView": "form"
      },
      "source": [
        "#@title\n",
        "\n",
        "def invV2(x_i,y_i,alpha,betta):\n",
        "  skeweness = 1/2*(y_i/x_i+x_i/y_i)\n",
        "  return (x_i+y_i)*(skeweness)**(-alpha) + 2*(x_i*y_i)**(1/2)*(skeweness - betta)**((alpha))\n",
        "\n",
        "def find_same_proportion(x_balance,y_balance,deposit_in_x):\n",
        "  \n",
        "  x_left = 1\n",
        "  x_right = deposit_in_x\n",
        "  for _ in range(50):\n",
        "    x_virtual_swap_pay = (x_left + x_right)/2\n",
        "    y_virtual_swap_get = find_how_many_you_getV2(x_balance,\n",
        "                        y_balance,\n",
        "                        x_balance+x_virtual_swap_pay,\n",
        "                        alpha,\n",
        "                        betta)\n",
        "    \n",
        "    ratio_in_contract_aftrer_virtual_swap = (x_balance+x_virtual_swap_pay)/(y_balance-y_virtual_swap_get)\n",
        "    x_to_deposit = deposit_in_x - x_virtual_swap_pay\n",
        "    y_to_deposit = y_virtual_swap_get\n",
        "    ratio_virtual_replanish = int(x_to_deposit)/int(y_to_deposit)\n",
        "\n",
        "    if ratio_in_contract_aftrer_virtual_swap-ratio_virtual_replanish > 0:\n",
        "      x_left = x_left\n",
        "      x_right = x_virtual_swap_pay\n",
        "    elif ratio_in_contract_aftrer_virtual_swap-ratio_virtual_replanish < 0 :\n",
        "      x_left = x_virtual_swap_pay\n",
        "      x_right = x_right\n",
        "    else:\n",
        "      return deposit_in_x-x_virtual_swap_pay,y_virtual_swap_get\n",
        "  return deposit_in_x-x_virtual_swap_pay,y_virtual_swap_get\n",
        "x= []\n",
        "y= []\n",
        "for x_depos in np.arange(5000000,10000000,1000):\n",
        "  a1,a2 = find_same_proportion(x_balance,y_balance,x_depos)\n",
        "  x.append(int(x_depos))\n",
        "  y.append(a1/a2)\n",
        "\n",
        "fig = go.Figure()\n",
        "\n",
        "# fig.add_trace(go.Scatter(x=x_flatV1, y=y_flatV1,\n",
        "#                     mode ='lines', name = 'flatV1, alpha =' + str(alpha_for_V1)))\n",
        "\n",
        "fig.add_trace(go.Scatter(x=x, y=y,\n",
        "                    mode ='lines', name = 'flatV2'))\n"
      ],
      "execution_count": null,
      "outputs": []
    },
    {
      "cell_type": "code",
      "metadata": {
        "id": "1kAXoEPdRezj"
      },
      "source": [
        ""
      ],
      "execution_count": null,
      "outputs": []
    }
  ]
}